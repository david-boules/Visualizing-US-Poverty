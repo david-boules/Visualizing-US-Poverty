{
  "nbformat": 4,
  "nbformat_minor": 0,
  "metadata": {
    "colab": {
      "provenance": []
    },
    "kernelspec": {
      "name": "python3",
      "display_name": "Python 3"
    },
    "language_info": {
      "name": "python"
    }
  },
  "cells": [
    {
      "cell_type": "markdown",
      "source": [
        "# Data Cleaning & Pre-Processing"
      ],
      "metadata": {
        "id": "FAh4wte0sh65"
      }
    },
    {
      "cell_type": "code",
      "execution_count": 2,
      "metadata": {
        "id": "X7JxVgWoslE4"
      },
      "outputs": [],
      "source": [
        "import pandas as pd\n",
        "import numpy as np\n",
        "\n",
        "pd.options.display.max_columns = None"
      ]
    },
    {
      "cell_type": "code",
      "source": [
        "data = pd.read_excel(\"/content/RuralAtlasData24.xlsx\", sheet_name=None)"
      ],
      "metadata": {
        "id": "cLvcWqw_udKe"
      },
      "execution_count": 3,
      "outputs": []
    },
    {
      "cell_type": "markdown",
      "source": [
        "(N.B. Data read by uploading file locally to Google Colab Notebook)"
      ],
      "metadata": {
        "id": "dy7VRr1UpUCD"
      }
    },
    {
      "cell_type": "code",
      "source": [
        "people = data['People']\n",
        "jobs = data['Jobs']\n",
        "county_class = data['County Classifications']\n",
        "income = data['Income']\n",
        "veterans = data['Veterans']"
      ],
      "metadata": {
        "id": "WxMTdcEFuihK"
      },
      "execution_count": 4,
      "outputs": []
    },
    {
      "cell_type": "markdown",
      "source": [
        "Excel file contains multiple sheets, so 'data' is a dictionary of DataFrames\n",
        "\n",
        "The code above extracts each individual DataFrame"
      ],
      "metadata": {
        "id": "osrZoOXrpc76"
      }
    },
    {
      "cell_type": "code",
      "source": [
        "people['State'].unique()"
      ],
      "metadata": {
        "colab": {
          "base_uri": "https://localhost:8080/"
        },
        "id": "M0WlQEdJeCcu",
        "outputId": "3f9a01eb-bef5-48f0-83a4-806287197c8b"
      },
      "execution_count": 5,
      "outputs": [
        {
          "output_type": "execute_result",
          "data": {
            "text/plain": [
              "array(['US', 'AL', 'AK', 'AZ', 'AR', 'CA', 'CO', 'CT', 'DE', 'DC', 'FL',\n",
              "       'GA', 'HI', 'ID', 'IL', 'IN', 'IA', 'KS', 'KY', 'LA', 'ME', 'MD',\n",
              "       'MA', 'MI', 'MN', 'MS', 'MO', 'MT', 'NE', 'NV', 'NH', 'NJ', 'NM',\n",
              "       'NY', 'NC', 'ND', 'OH', 'OK', 'OR', 'PA', 'RI', 'SC', 'SD', 'TN',\n",
              "       'TX', 'UT', 'VT', 'VA', 'WA', 'WV', 'WI', 'WY', 'PR'], dtype=object)"
            ]
          },
          "metadata": {},
          "execution_count": 5
        }
      ]
    },
    {
      "cell_type": "markdown",
      "source": [
        "Returns an array of the '53 states' to be looped over to extract information for states (Puerto Rico and D.C. are considered states + the national averages for each variable are also included under the state code 'US')"
      ],
      "metadata": {
        "id": "hJWna6mgp8rl"
      }
    },
    {
      "cell_type": "code",
      "source": [
        "state_info_p = {}\n",
        "state_info_j = {}\n",
        "state_info_i = {}\n",
        "state_info_v = {}\n",
        "\n",
        "#People\n",
        "for state in people['State'].unique():\n",
        "  state_info_p[state]=people[people['State']==state].iloc[0]\n",
        "state_info_p = pd.DataFrame(state_info_p).T\n",
        "\n",
        "#Jobs\n",
        "for state in people['State'].unique():\n",
        "  state_info_j[state]=jobs[jobs['State']==state].iloc[0]\n",
        "state_info_j = pd.DataFrame(state_info_j).T\n",
        "\n",
        "#Income\n",
        "for state in people['State'].unique():\n",
        "  state_info_i[state]=income[income['State']==state].iloc[0]\n",
        "state_info_i = pd.DataFrame(state_info_i).T\n",
        "\n",
        "#Veterans\n",
        "for state in people['State'].unique():\n",
        "  state_info_v[state]=veterans[veterans['State']==state].iloc[0]\n",
        "state_info_v = pd.DataFrame(state_info_v).T\n",
        "\n",
        "df_states = pd.concat([state_info_p, state_info_j, state_info_i, state_info_v], axis=1, ignore_index=False)"
      ],
      "metadata": {
        "id": "Ratz3p5ReQwY"
      },
      "execution_count": 6,
      "outputs": []
    },
    {
      "cell_type": "markdown",
      "source": [
        "Data on 'People', 'Jobs', 'Income' and 'Veterans' for each state (state averages) are stored in df_states\n",
        "\n",
        "We will make another data frame containing the information for each county, without the states:"
      ],
      "metadata": {
        "id": "zu7GgemxqpNp"
      }
    },
    {
      "cell_type": "code",
      "source": [
        "for i in [people, jobs, county_class, income, veterans]:\n",
        "  print(len(i))"
      ],
      "metadata": {
        "colab": {
          "base_uri": "https://localhost:8080/"
        },
        "id": "1QS8pqcsikgG",
        "outputId": "01dc1843-7aa6-4f3e-c31f-b38d44af2189"
      },
      "execution_count": 7,
      "outputs": [
        {
          "output_type": "stream",
          "name": "stdout",
          "text": [
            "3280\n",
            "3280\n",
            "3227\n",
            "3280\n",
            "3280\n"
          ]
        }
      ]
    },
    {
      "cell_type": "markdown",
      "source": [
        "**County classifications does not have the collated data for each state (3280-53 = 3227)**\n",
        "\n",
        "Remove rows with FIPS multiple of 1000 (since this is what identifies each state) - this requires making FIPS a *numeric* variable\n",
        "\n",
        "We also must make FIPS the index of all columns to join the data:"
      ],
      "metadata": {
        "id": "sj4KR5mBktcp"
      }
    },
    {
      "cell_type": "code",
      "source": [
        "#People\n",
        "people['FIPS'] = people['FIPS'].astype(int)\n",
        "people = people[people['FIPS']%1000 != 0]\n",
        "people.set_index(\"FIPS\", inplace=True)\n",
        "\n",
        "#Jobs\n",
        "jobs['FIPS'] = jobs['FIPS'].astype(int)\n",
        "jobs = jobs[jobs['FIPS']%1000 != 0]\n",
        "jobs.set_index(\"FIPS\", inplace=True)\n",
        "\n",
        "#County_Classification (must change from FIPStxt - FIPS):\n",
        "county_class = county_class.rename(columns={\"FIPStxt\": \"FIPS\"})\n",
        "county_class['FIPS'] = county_class['FIPS'].astype(int)\n",
        "county_class.set_index(\"FIPS\", inplace=True)\n",
        "\n",
        "#Income\n",
        "income['FIPS'] = income['FIPS'].astype(int)\n",
        "income = income[income['FIPS']%1000 != 0]\n",
        "income.set_index(\"FIPS\", inplace=True)\n",
        "\n",
        "#Veterans\n",
        "veterans['FIPS'] = veterans['FIPS'].astype(int)\n",
        "veterans = veterans[veterans['FIPS']%1000 != 0]\n",
        "veterans.set_index(\"FIPS\", inplace=True)"
      ],
      "metadata": {
        "id": "BIB98etMke2p"
      },
      "execution_count": 8,
      "outputs": []
    },
    {
      "cell_type": "code",
      "source": [
        "df_counties = pd.concat([people, jobs, county_class, income, veterans], axis=1, ignore_index=False)"
      ],
      "metadata": {
        "id": "lBqLuD_CpcGr"
      },
      "execution_count": 9,
      "outputs": []
    },
    {
      "cell_type": "markdown",
      "source": [
        "The concatenated data for counties contains multiple instances of 'FIPS' and 'State' so these repetitions must be removed\n",
        "\n",
        "The data for the states also has this issue. Additionally, 'FIPS' and 'County' are no longer needed and can be removed."
      ],
      "metadata": {
        "id": "qGQJmjUmsKR5"
      }
    },
    {
      "cell_type": "code",
      "source": [
        "df_counties = df_counties.loc[:, ~df_counties.columns.duplicated(keep='first')]\n",
        "\n",
        "columns_to_remove = [col for col in df_states.columns if 'FIPS' in col or 'County' in col]\n",
        "df_states = df_states.drop(columns=columns_to_remove)\n",
        "\n",
        "df_states = df_states.loc[:, ~df_states.columns.duplicated(keep='first')]"
      ],
      "metadata": {
        "id": "iMz1EZPysF3q"
      },
      "execution_count": 10,
      "outputs": []
    },
    {
      "cell_type": "markdown",
      "source": [
        "### Handling NaNs"
      ],
      "metadata": {
        "id": "8MsuURhKzuWB"
      }
    },
    {
      "cell_type": "code",
      "source": [
        "df_states = df_states.replace({np.nan: pd.NA})\n",
        "df_counties = df_counties.replace({np.nan: pd.NA})"
      ],
      "metadata": {
        "colab": {
          "base_uri": "https://localhost:8080/"
        },
        "id": "vK29vJi2zmJ_",
        "outputId": "261f9aad-1f01-4be6-94da-a4c024aac78a"
      },
      "execution_count": 11,
      "outputs": [
        {
          "output_type": "stream",
          "name": "stderr",
          "text": [
            "<ipython-input-11-6ccb7eb35412>:1: FutureWarning: Downcasting behavior in `replace` is deprecated and will be removed in a future version. To retain the old behavior, explicitly call `result.infer_objects(copy=False)`. To opt-in to the future behavior, set `pd.set_option('future.no_silent_downcasting', True)`\n",
            "  df_states = df_states.replace({np.nan: pd.NA})\n"
          ]
        }
      ]
    },
    {
      "cell_type": "markdown",
      "source": [
        "NaN values are converted to NAs instead, for Tableau to consistently view these as null values. (Sometimes NaNs are interpreted as 0s when imported in Tableau)"
      ],
      "metadata": {
        "id": "-7toDzxossG-"
      }
    },
    {
      "cell_type": "markdown",
      "source": [
        "Final checks for duplicate rows:"
      ],
      "metadata": {
        "id": "3vHaqXwYs95c"
      }
    },
    {
      "cell_type": "code",
      "source": [
        "df_counties.duplicated().value_counts()"
      ],
      "metadata": {
        "colab": {
          "base_uri": "https://localhost:8080/",
          "height": 115
        },
        "id": "NWXuR6z40_nX",
        "outputId": "13644ca2-e8f2-48bf-e02c-1aa19b5ceae6"
      },
      "execution_count": 12,
      "outputs": [
        {
          "output_type": "execute_result",
          "data": {
            "text/plain": [
              "False    3227\n",
              "Name: count, dtype: int64"
            ],
            "text/html": [
              "<div>\n",
              "<style scoped>\n",
              "    .dataframe tbody tr th:only-of-type {\n",
              "        vertical-align: middle;\n",
              "    }\n",
              "\n",
              "    .dataframe tbody tr th {\n",
              "        vertical-align: top;\n",
              "    }\n",
              "\n",
              "    .dataframe thead th {\n",
              "        text-align: right;\n",
              "    }\n",
              "</style>\n",
              "<table border=\"1\" class=\"dataframe\">\n",
              "  <thead>\n",
              "    <tr style=\"text-align: right;\">\n",
              "      <th></th>\n",
              "      <th>count</th>\n",
              "    </tr>\n",
              "  </thead>\n",
              "  <tbody>\n",
              "    <tr>\n",
              "      <th>False</th>\n",
              "      <td>3227</td>\n",
              "    </tr>\n",
              "  </tbody>\n",
              "</table>\n",
              "</div><br><label><b>dtype:</b> int64</label>"
            ]
          },
          "metadata": {},
          "execution_count": 12
        }
      ]
    },
    {
      "cell_type": "code",
      "source": [
        "df_states.duplicated().value_counts()"
      ],
      "metadata": {
        "colab": {
          "base_uri": "https://localhost:8080/",
          "height": 115
        },
        "id": "eyX7xPThtBIW",
        "outputId": "f6020f3c-fac8-44af-d9d0-f8456424bb65"
      },
      "execution_count": 13,
      "outputs": [
        {
          "output_type": "execute_result",
          "data": {
            "text/plain": [
              "False    53\n",
              "Name: count, dtype: int64"
            ],
            "text/html": [
              "<div>\n",
              "<style scoped>\n",
              "    .dataframe tbody tr th:only-of-type {\n",
              "        vertical-align: middle;\n",
              "    }\n",
              "\n",
              "    .dataframe tbody tr th {\n",
              "        vertical-align: top;\n",
              "    }\n",
              "\n",
              "    .dataframe thead th {\n",
              "        text-align: right;\n",
              "    }\n",
              "</style>\n",
              "<table border=\"1\" class=\"dataframe\">\n",
              "  <thead>\n",
              "    <tr style=\"text-align: right;\">\n",
              "      <th></th>\n",
              "      <th>count</th>\n",
              "    </tr>\n",
              "  </thead>\n",
              "  <tbody>\n",
              "    <tr>\n",
              "      <th>False</th>\n",
              "      <td>53</td>\n",
              "    </tr>\n",
              "  </tbody>\n",
              "</table>\n",
              "</div><br><label><b>dtype:</b> int64</label>"
            ]
          },
          "metadata": {},
          "execution_count": 13
        }
      ]
    },
    {
      "cell_type": "markdown",
      "source": [
        "## Adding new features"
      ],
      "metadata": {
        "id": "1ZzR9g5MZsAK"
      }
    },
    {
      "cell_type": "code",
      "source": [
        "# Northeast Region\n",
        "northeast = [\n",
        "    \"ME\", \"NH\", \"VT\", \"MA\", \"RI\", \"CT\",\n",
        "    \"NY\", \"NJ\", \"PA\"\n",
        "]\n",
        "\n",
        "# Midwest Region\n",
        "midwest = [\n",
        "    \"OH\", \"IN\", \"IL\", \"MI\", \"WI\",\n",
        "    \"MN\", \"IA\", \"MO\", \"ND\",\n",
        "    \"SD\", \"NE\", \"KS\"\n",
        "]\n",
        "\n",
        "# South Region\n",
        "south = [\n",
        "    \"DE\", \"MD\", \"DC\", \"VA\", \"WV\",\n",
        "    \"NC\", \"SC\", \"GA\", \"FL\",\n",
        "    \"KY\", \"TN\", \"AL\", \"MS\",\n",
        "    \"AR\", \"LA\", \"OK\", \"TX\"\n",
        "]\n",
        "\n",
        "# West Region\n",
        "west = [\n",
        "    \"MT\", \"ID\", \"WY\", \"CO\",\n",
        "    \"NM\", \"AZ\", \"UT\", \"NV\",\n",
        "    \"WA\", \"OR\", \"CA\", \"AK\", \"HI\"\n",
        "]\n",
        "\n",
        "df_states['Region'] = [' ']*53\n",
        "\n",
        "for index, row in df_states.iterrows():\n",
        "  if row['State'] in northeast:\n",
        "    df_states.loc[index, 'Region'] = 'Northeast'\n",
        "  elif row['State'] in midwest:\n",
        "    df_states.loc[index, 'Region'] = 'Midwest'\n",
        "  elif row['State'] in south:\n",
        "    df_states.loc[index, 'Region'] = 'South'\n",
        "  elif row['State'] in west:\n",
        "    df_states.loc[index, 'Region'] = 'West'\n",
        "\n",
        "for index, row in df_counties.iterrows():\n",
        "  if row['State'] in northeast:\n",
        "    df_counties.loc[index, 'Region'] = 'Northeast'\n",
        "  elif row['State'] in midwest:\n",
        "    df_counties.loc[index, 'Region'] = 'Midwest'\n",
        "  elif row['State'] in south:\n",
        "    df_counties.loc[index, 'Region'] = 'South'\n",
        "  elif row['State'] in west:\n",
        "    df_counties.loc[index, 'Region'] = 'West'"
      ],
      "metadata": {
        "id": "PpAHok6UZuuI"
      },
      "execution_count": 14,
      "outputs": []
    },
    {
      "cell_type": "markdown",
      "source": [
        "For Geographical analysis, we can classify the U.S. states as being in either the Northeast, Midwest, South, or West Region"
      ],
      "metadata": {
        "id": "pTsVknonI9Vx"
      }
    },
    {
      "cell_type": "code",
      "source": [
        "df_states['AvgUnempRate'] = (df_states['UnempRate2017'] + df_states['UnempRate2018'] + df_states['UnempRate2019'] + df_states['UnempRate2020'] + df_states['UnempRate2021'])/5\n",
        "df_counties['AvgUnempRate'] = (df_counties['UnempRate2017'] + df_counties['UnempRate2018'] + df_counties['UnempRate2019'] + df_counties['UnempRate2020'] + df_counties['UnempRate2021'])/5"
      ],
      "metadata": {
        "id": "iIAL2agxL5BK"
      },
      "execution_count": 15,
      "outputs": []
    },
    {
      "cell_type": "markdown",
      "source": [
        "Computing the 5-year unemployment rate for each county (to match with pctpovall)"
      ],
      "metadata": {
        "id": "AnXeQC7CL5xI"
      }
    },
    {
      "cell_type": "markdown",
      "source": [
        "We have decided to exclude D.C. and Puerto Rico (states and counties) as they are not official states + they contain several anomolous/null results for various features"
      ],
      "metadata": {
        "id": "knnIQW6zU_8Q"
      }
    },
    {
      "cell_type": "code",
      "source": [
        "df_counties = df_counties[df_counties['State']!= 'DC']\n",
        "df_counties = df_counties[df_counties['State']!= 'PR']\n",
        "df_counties.shape"
      ],
      "metadata": {
        "colab": {
          "base_uri": "https://localhost:8080/"
        },
        "id": "EEFmMMhOVTF-",
        "outputId": "88b59689-0580-4396-e4f9-a64ceff9f85f"
      },
      "execution_count": 16,
      "outputs": [
        {
          "output_type": "execute_result",
          "data": {
            "text/plain": [
              "(3148, 258)"
            ]
          },
          "metadata": {},
          "execution_count": 16
        }
      ]
    },
    {
      "cell_type": "code",
      "source": [
        "df_states = df_states[df_states['State']!= 'DC']\n",
        "df_states = df_states[df_states['State']!= 'PR']"
      ],
      "metadata": {
        "id": "Sj4FrRsaWgoK"
      },
      "execution_count": 17,
      "outputs": []
    },
    {
      "cell_type": "code",
      "source": [
        "df_states.shape"
      ],
      "metadata": {
        "colab": {
          "base_uri": "https://localhost:8080/"
        },
        "id": "UPdbm40uWsC0",
        "outputId": "2f2484d1-baf9-4978-a9b1-00ada9af416e"
      },
      "execution_count": 18,
      "outputs": [
        {
          "output_type": "execute_result",
          "data": {
            "text/plain": [
              "(51, 215)"
            ]
          },
          "metadata": {},
          "execution_count": 18
        }
      ]
    },
    {
      "cell_type": "code",
      "source": [
        "national_averages = df_states.iloc[0]\n",
        "df_states = df_states.drop(df_states.index[0])"
      ],
      "metadata": {
        "id": "Qq3dYThxvQ1K"
      },
      "execution_count": 19,
      "outputs": []
    },
    {
      "cell_type": "markdown",
      "source": [
        "The US Averages for each feature must be removed from df_states and stored separately for comparison in analyses:"
      ],
      "metadata": {
        "id": "M98pWc1Kv8do"
      }
    },
    {
      "cell_type": "markdown",
      "source": [
        "## Exporting to CSV"
      ],
      "metadata": {
        "id": "guwIbFFx0g6R"
      }
    },
    {
      "cell_type": "code",
      "source": [
        "df_states.to_csv(\"States.csv\")"
      ],
      "metadata": {
        "id": "aXL3bWQq0UFY"
      },
      "execution_count": 20,
      "outputs": []
    },
    {
      "cell_type": "code",
      "source": [
        "df_counties.to_csv(\"Counties.csv\")"
      ],
      "metadata": {
        "id": "JsUz2Rsr1eSL"
      },
      "execution_count": 21,
      "outputs": []
    },
    {
      "cell_type": "markdown",
      "source": [
        "# Preparing for Visualizations"
      ],
      "metadata": {
        "id": "iqnvw5n2w686"
      }
    },
    {
      "cell_type": "code",
      "source": [
        "import seaborn as sns\n",
        "import matplotlib.pyplot as plt\n",
        "\n",
        "df_states = pd.read_csv(\"States.csv\")\n",
        "df_counties = pd.read_csv(\"Counties.csv\")"
      ],
      "metadata": {
        "id": "iwj0jMNA1t1P"
      },
      "execution_count": 22,
      "outputs": []
    },
    {
      "cell_type": "markdown",
      "source": [
        "# Visualizations"
      ],
      "metadata": {
        "id": "yL2TsLWwseMZ"
      }
    },
    {
      "cell_type": "markdown",
      "source": [
        "## Correlations"
      ],
      "metadata": {
        "id": "3HT9qgLXyG6S"
      }
    },
    {
      "cell_type": "code",
      "source": [
        "correlations = df_counties.corr(numeric_only=True, method='pearson')['PCTPOVALL']\n",
        "print(correlations[correlations.abs()>0.4].sort_values(ascending=False))"
      ],
      "metadata": {
        "colab": {
          "base_uri": "https://localhost:8080/"
        },
        "id": "ITCN7JA9yGqu",
        "outputId": "41f970b6-6936-43e6-d518-abf2004d96cb"
      },
      "execution_count": 23,
      "outputs": [
        {
          "output_type": "stream",
          "name": "stdout",
          "text": [
            "PCTPOVALL                           1.000000\n",
            "PCTPOV017                           0.938169\n",
            "Poverty_Rate_ACS                    0.890321\n",
            "PctNonVetsPoor                      0.852749\n",
            "Poverty_Rate_0_17_ACS               0.806029\n",
            "Deep_Pov_All                        0.760491\n",
            "Deep_Pov_Children                   0.704051\n",
            "Hipov                               0.692846\n",
            "PersistentChildPoverty2004          0.681427\n",
            "PersistentChildPoverty_1980_2011    0.681066\n",
            "PersistentPoverty2000               0.654068\n",
            "Perpov_1980_0711                    0.648432\n",
            "Ed1LessThanHSPct                    0.637551\n",
            "FemaleHHPct                         0.627696\n",
            "Low_Employment_2015_update          0.602874\n",
            "UnempRate2015                       0.598704\n",
            "UnempRate2016                       0.589491\n",
            "PctNonVetsDisabilty                 0.569856\n",
            "LowEducation2000                    0.561735\n",
            "UnempRate2017                       0.561044\n",
            "UnempRate2014                       0.558153\n",
            "UnempRate2018                       0.532408\n",
            "UnempRate2013                       0.524810\n",
            "UnempRate2019                       0.512541\n",
            "AvgUnempRate                        0.498738\n",
            "BlackNonHispanicPct2020             0.496422\n",
            "UnempRate2012                       0.488521\n",
            "UnempRate2007                       0.484586\n",
            "Low_Education_2015_update           0.475095\n",
            "UnempRate2011                       0.474361\n",
            "UnempRate2021                       0.446074\n",
            "BlackVetsPct                        0.445917\n",
            "UnempRate2008                       0.427915\n",
            "UnempRate2010                       0.420285\n",
            "PopChangeRate1020                  -0.429691\n",
            "WhiteNonHispanicPct2020            -0.450985\n",
            "MedianVetsInc                      -0.455755\n",
            "LFPVetsRate                        -0.471526\n",
            "WhiteNonHispVetsPct                -0.479653\n",
            "Ed5CollegePlusPct                  -0.498929\n",
            "PerCapitaInc                       -0.699728\n",
            "Median_HH_Inc_ACS                  -0.737741\n",
            "MedianNonVetsInc                   -0.763095\n",
            "MedHHInc                           -0.773455\n",
            "Name: PCTPOVALL, dtype: float64\n"
          ]
        }
      ]
    },
    {
      "cell_type": "code",
      "source": [
        "poverty = ['PCTPOVALL', 'Poverty_Rate_ACS', 'Poverty_Rate_0_17_ACS', 'Hipov']\n",
        "non_poverty = ['Ed1LessThanHSPct', 'FemaleHHPct', 'Low_Employment_2015_update', 'AvgUnempRate', 'BlackNonHispanicPct2020', 'Low_Education_2015_update', 'WhiteNonHispanicPct2020', 'Ed5CollegePlusPct', 'PerCapitaInc', 'MedHHInc']\n",
        "\n",
        "# Calculate the correlation matrix using .corr() instead of .corrwith()\n",
        "correlation_matrix = df_counties[poverty + non_poverty].corr(numeric_only=True, method='pearson').loc[poverty, non_poverty]\n",
        "\n",
        "\n",
        "# Visualize the matrix using a heatmap\n",
        "plt.figure(figsize=(8, 5))\n",
        "sns.heatmap(correlation_matrix, annot=True, cmap='coolwarm', xticklabels=non_poverty, yticklabels=poverty)\n",
        "plt.title(\"Correlation Between Poverty and Non-Poverty Features\")\n",
        "plt.show()"
      ],
      "metadata": {
        "colab": {
          "base_uri": "https://localhost:8080/",
          "height": 674
        },
        "id": "p3beQwiBAWa_",
        "outputId": "ac90c25e-f67e-44c5-b692-7d8fd59c3040"
      },
      "execution_count": 24,
      "outputs": [
        {
          "output_type": "display_data",
          "data": {
            "text/plain": [
              "<Figure size 800x500 with 2 Axes>"
            ],
            "image/png": "[encoded data removed]"
          },
          "metadata": {}
        }
      ]
    },
    {
      "cell_type": "code",
      "source": [
        "variables_of_interest = ['PCTPOVALL', 'Ed1LessThanHSPct', 'FemaleHHPct', 'AvgUnempRate', 'BlackNonHispanicPct2020', 'WhiteNonHispanicPct2020', 'Ed5CollegePlusPct', 'PerCapitaInc', 'MedHHInc']\n",
        "for var in variables_of_interest:\n",
        "  print(var, national_averages[var])"
      ],
      "metadata": {
        "colab": {
          "base_uri": "https://localhost:8080/"
        },
        "id": "QgjNapm-gO53",
        "outputId": "9e9cc86f-e994-4bf2-bd25-dbf5e43925cf"
      },
      "execution_count": 25,
      "outputs": [
        {
          "output_type": "stream",
          "name": "stdout",
          "text": [
            "PCTPOVALL 12.8\n",
            "Ed1LessThanHSPct 11.1259596764\n",
            "FemaleHHPct 12.316068724\n",
            "AvgUnempRate 5.1\n",
            "BlackNonHispanicPct2020 12.050211084935194\n",
            "WhiteNonHispanicPct2020 57.836193345068686\n",
            "Ed5CollegePlusPct 33.6700217036\n",
            "PerCapitaInc 37638.0\n",
            "MedHHInc 69717.0\n"
          ]
        }
      ]
    },
    {
      "cell_type": "markdown",
      "source": [
        "## Data Summarization"
      ],
      "metadata": {
        "id": "VKk2XATVc15O"
      }
    },
    {
      "cell_type": "code",
      "source": [
        "df_counties['PCTPOVALL'].describe()"
      ],
      "metadata": {
        "colab": {
          "base_uri": "https://localhost:8080/",
          "height": 0
        },
        "id": "jaKuJ8LXJGeV",
        "outputId": "4a076ed3-daf6-49b6-ba13-7efb38beb088"
      },
      "execution_count": 26,
      "outputs": [
        {
          "output_type": "execute_result",
          "data": {
            "text/plain": [
              "count    3141.000000\n",
              "mean       14.609169\n",
              "std         5.663881\n",
              "min         2.900000\n",
              "25%        10.600000\n",
              "50%        13.600000\n",
              "75%        17.600000\n",
              "max        43.900000\n",
              "Name: PCTPOVALL, dtype: float64"
            ],
            "text/html": [
              "<div>\n",
              "<style scoped>\n",
              "    .dataframe tbody tr th:only-of-type {\n",
              "        vertical-align: middle;\n",
              "    }\n",
              "\n",
              "    .dataframe tbody tr th {\n",
              "        vertical-align: top;\n",
              "    }\n",
              "\n",
              "    .dataframe thead th {\n",
              "        text-align: right;\n",
              "    }\n",
              "</style>\n",
              "<table border=\"1\" class=\"dataframe\">\n",
              "  <thead>\n",
              "    <tr style=\"text-align: right;\">\n",
              "      <th></th>\n",
              "      <th>PCTPOVALL</th>\n",
              "    </tr>\n",
              "  </thead>\n",
              "  <tbody>\n",
              "    <tr>\n",
              "      <th>count</th>\n",
              "      <td>3141.000000</td>\n",
              "    </tr>\n",
              "    <tr>\n",
              "      <th>mean</th>\n",
              "      <td>14.609169</td>\n",
              "    </tr>\n",
              "    <tr>\n",
              "      <th>std</th>\n",
              "      <td>5.663881</td>\n",
              "    </tr>\n",
              "    <tr>\n",
              "      <th>min</th>\n",
              "      <td>2.900000</td>\n",
              "    </tr>\n",
              "    <tr>\n",
              "      <th>25%</th>\n",
              "      <td>10.600000</td>\n",
              "    </tr>\n",
              "    <tr>\n",
              "      <th>50%</th>\n",
              "      <td>13.600000</td>\n",
              "    </tr>\n",
              "    <tr>\n",
              "      <th>75%</th>\n",
              "      <td>17.600000</td>\n",
              "    </tr>\n",
              "    <tr>\n",
              "      <th>max</th>\n",
              "      <td>43.900000</td>\n",
              "    </tr>\n",
              "  </tbody>\n",
              "</table>\n",
              "</div><br><label><b>dtype:</b> float64</label>"
            ]
          },
          "metadata": {},
          "execution_count": 26
        }
      ]
    },
    {
      "cell_type": "markdown",
      "source": [
        "17.6 + 1.5(7) = 28.1\n",
        "\n",
        "A poverty rate above 28.1% is considered an outlier"
      ],
      "metadata": {
        "id": "TRXP5C9uJqSL"
      }
    },
    {
      "cell_type": "code",
      "source": [
        "sns.boxplot(x='Region', y='PCTPOVALL', data=df_states)"
      ],
      "metadata": {
        "colab": {
          "base_uri": "https://localhost:8080/",
          "height": 0
        },
        "id": "P1OcyLLTJH6R",
        "outputId": "23b8ee25-6cdb-404c-965f-db16a83989ba"
      },
      "execution_count": 27,
      "outputs": [
        {
          "output_type": "execute_result",
          "data": {
            "text/plain": [
              "<Axes: xlabel='Region', ylabel='PCTPOVALL'>"
            ]
          },
          "metadata": {},
          "execution_count": 27
        },
        {
          "output_type": "display_data",
          "data": {
            "text/plain": [
              "<Figure size 640x480 with 1 Axes>"
            ],
            "image/png": "[encoded data removed]"
          },
          "metadata": {}
        }
      ]
    },
    {
      "cell_type": "markdown",
      "source": [
        "Southern states have a much higher poverty rate than states in other regions"
      ],
      "metadata": {
        "id": "f2yc5gxhZ6B5"
      }
    },
    {
      "cell_type": "code",
      "source": [
        "sns.histplot(x='MedHHInc', data=df_counties)"
      ],
      "metadata": {
        "colab": {
          "base_uri": "https://localhost:8080/",
          "height": 0
        },
        "id": "j3M7shZbo11i",
        "outputId": "6360e5f0-9fac-422a-8c9d-3c9b62ea483b"
      },
      "execution_count": 28,
      "outputs": [
        {
          "output_type": "execute_result",
          "data": {
            "text/plain": [
              "<Axes: xlabel='MedHHInc', ylabel='Count'>"
            ]
          },
          "metadata": {},
          "execution_count": 28
        },
        {
          "output_type": "display_data",
          "data": {
            "text/plain": [
              "<Figure size 640x480 with 1 Axes>"
            ],
            "image/png": "[encoded data removed]"
          },
          "metadata": {}
        }
      ]
    },
    {
      "cell_type": "code",
      "source": [
        "national_averages['MedHHInc']"
      ],
      "metadata": {
        "colab": {
          "base_uri": "https://localhost:8080/"
        },
        "id": "GJ9Gy2krpnUP",
        "outputId": "094eadb3-3cb5-400a-f042-05e5af1c4860"
      },
      "execution_count": 29,
      "outputs": [
        {
          "output_type": "execute_result",
          "data": {
            "text/plain": [
              "69717.0"
            ]
          },
          "metadata": {},
          "execution_count": 29
        }
      ]
    },
    {
      "cell_type": "markdown",
      "source": [
        "## Factors affecting poverty"
      ],
      "metadata": {
        "id": "7TiBSrOLc9JS"
      }
    },
    {
      "cell_type": "markdown",
      "source": [
        "### Unemployment Rate"
      ],
      "metadata": {
        "id": "im5Uu08RLgiN"
      }
    },
    {
      "cell_type": "code",
      "source": [
        "sns.scatterplot(x='AvgUnempRate', y='PCTPOVALL', data=df_counties)"
      ],
      "metadata": {
        "colab": {
          "base_uri": "https://localhost:8080/",
          "height": 0
        },
        "id": "h-xqyXLOE62B",
        "outputId": "6ace1123-eb23-42ac-eab5-387d6f0dcd1f"
      },
      "execution_count": 30,
      "outputs": [
        {
          "output_type": "execute_result",
          "data": {
            "text/plain": [
              "<Axes: xlabel='AvgUnempRate', ylabel='PCTPOVALL'>"
            ]
          },
          "metadata": {},
          "execution_count": 30
        },
        {
          "output_type": "display_data",
          "data": {
            "text/plain": [
              "<Figure size 640x480 with 1 Axes>"
            ],
            "image/png": "[encoded data removed]"
          },
          "metadata": {}
        }
      ]
    },
    {
      "cell_type": "code",
      "source": [
        "sns.boxplot(x='Region', y='AvgUnempRate', data=df_counties)"
      ],
      "metadata": {
        "colab": {
          "base_uri": "https://localhost:8080/",
          "height": 0
        },
        "id": "XhuWYDw1NeU7",
        "outputId": "b971429c-02b4-4571-b473-4eaaabc9aa57"
      },
      "execution_count": 31,
      "outputs": [
        {
          "output_type": "execute_result",
          "data": {
            "text/plain": [
              "<Axes: xlabel='Region', ylabel='AvgUnempRate'>"
            ]
          },
          "metadata": {},
          "execution_count": 31
        },
        {
          "output_type": "display_data",
          "data": {
            "text/plain": [
              "<Figure size 640x480 with 1 Axes>"
            ],
            "image/png": "[encoded data removed]"
          },
          "metadata": {}
        }
      ]
    },
    {
      "cell_type": "markdown",
      "source": [
        "While unemployment appears to have an effect on poverty, all regions suffer from unemployment to a similar degree"
      ],
      "metadata": {
        "id": "rG9dKMGN-rx8"
      }
    },
    {
      "cell_type": "markdown",
      "source": [
        "### Percentage of Black Population"
      ],
      "metadata": {
        "id": "DXoGcH-xdCuJ"
      }
    },
    {
      "cell_type": "code",
      "source": [
        "national_averages['BlackNonHispanicPct2020']"
      ],
      "metadata": {
        "colab": {
          "base_uri": "https://localhost:8080/"
        },
        "id": "sJmEgPsZePb9",
        "outputId": "885ea9e5-dcc5-4b8f-f530-328e65b63ae9"
      },
      "execution_count": 32,
      "outputs": [
        {
          "output_type": "execute_result",
          "data": {
            "text/plain": [
              "12.050211084935194"
            ]
          },
          "metadata": {},
          "execution_count": 32
        }
      ]
    },
    {
      "cell_type": "code",
      "source": [
        "df_counties['BlackNonHispanicPct2020'].describe()"
      ],
      "metadata": {
        "colab": {
          "base_uri": "https://localhost:8080/",
          "height": 0
        },
        "id": "adn1Wif-hsLl",
        "outputId": "14c6474a-3e3b-4d9f-c1ad-4e3449f7d9c8"
      },
      "execution_count": 33,
      "outputs": [
        {
          "output_type": "execute_result",
          "data": {
            "text/plain": [
              "count    3142.000000\n",
              "mean        8.571663\n",
              "std        14.017293\n",
              "min         0.000000\n",
              "25%         0.495746\n",
              "50%         1.983001\n",
              "75%         9.650514\n",
              "max        87.126437\n",
              "Name: BlackNonHispanicPct2020, dtype: float64"
            ],
            "text/html": [
              "<div>\n",
              "<style scoped>\n",
              "    .dataframe tbody tr th:only-of-type {\n",
              "        vertical-align: middle;\n",
              "    }\n",
              "\n",
              "    .dataframe tbody tr th {\n",
              "        vertical-align: top;\n",
              "    }\n",
              "\n",
              "    .dataframe thead th {\n",
              "        text-align: right;\n",
              "    }\n",
              "</style>\n",
              "<table border=\"1\" class=\"dataframe\">\n",
              "  <thead>\n",
              "    <tr style=\"text-align: right;\">\n",
              "      <th></th>\n",
              "      <th>BlackNonHispanicPct2020</th>\n",
              "    </tr>\n",
              "  </thead>\n",
              "  <tbody>\n",
              "    <tr>\n",
              "      <th>count</th>\n",
              "      <td>3142.000000</td>\n",
              "    </tr>\n",
              "    <tr>\n",
              "      <th>mean</th>\n",
              "      <td>8.571663</td>\n",
              "    </tr>\n",
              "    <tr>\n",
              "      <th>std</th>\n",
              "      <td>14.017293</td>\n",
              "    </tr>\n",
              "    <tr>\n",
              "      <th>min</th>\n",
              "      <td>0.000000</td>\n",
              "    </tr>\n",
              "    <tr>\n",
              "      <th>25%</th>\n",
              "      <td>0.495746</td>\n",
              "    </tr>\n",
              "    <tr>\n",
              "      <th>50%</th>\n",
              "      <td>1.983001</td>\n",
              "    </tr>\n",
              "    <tr>\n",
              "      <th>75%</th>\n",
              "      <td>9.650514</td>\n",
              "    </tr>\n",
              "    <tr>\n",
              "      <th>max</th>\n",
              "      <td>87.126437</td>\n",
              "    </tr>\n",
              "  </tbody>\n",
              "</table>\n",
              "</div><br><label><b>dtype:</b> float64</label>"
            ]
          },
          "metadata": {},
          "execution_count": 33
        }
      ]
    },
    {
      "cell_type": "markdown",
      "source": [
        "We have chosen to observe the top half counties with the largest black populations (>1.83%, as per the median value) in our analysis to determine whether or not a relatively large black population has an effect on poverty"
      ],
      "metadata": {
        "id": "TNaWewxb_Ajl"
      }
    },
    {
      "cell_type": "markdown",
      "source": [
        "### Percentage of White people of the whole population"
      ],
      "metadata": {
        "id": "XkNOPmL9eKF0"
      }
    },
    {
      "cell_type": "code",
      "source": [
        "national_averages['WhiteNonHispanicPct2020']"
      ],
      "metadata": {
        "colab": {
          "base_uri": "https://localhost:8080/"
        },
        "id": "JV20wf2J437-",
        "outputId": "e9be1759-60c4-4bb3-f13d-6970c15b7643"
      },
      "execution_count": 34,
      "outputs": [
        {
          "output_type": "execute_result",
          "data": {
            "text/plain": [
              "57.836193345068686"
            ]
          },
          "metadata": {},
          "execution_count": 34
        }
      ]
    },
    {
      "cell_type": "code",
      "source": [
        "df_counties['WhiteNonHispanicPct2020'].describe()"
      ],
      "metadata": {
        "colab": {
          "base_uri": "https://localhost:8080/",
          "height": 335
        },
        "id": "hBoEbUuilPU1",
        "outputId": "31711c06-e92c-4c05-f232-71b43d9c06d5"
      },
      "execution_count": 35,
      "outputs": [
        {
          "output_type": "execute_result",
          "data": {
            "text/plain": [
              "count    3142.000000\n",
              "mean       74.162432\n",
              "std        19.796706\n",
              "min         1.776396\n",
              "25%        62.589658\n",
              "50%        80.728143\n",
              "75%        90.343988\n",
              "max        97.404829\n",
              "Name: WhiteNonHispanicPct2020, dtype: float64"
            ],
            "text/html": [
              "<div>\n",
              "<style scoped>\n",
              "    .dataframe tbody tr th:only-of-type {\n",
              "        vertical-align: middle;\n",
              "    }\n",
              "\n",
              "    .dataframe tbody tr th {\n",
              "        vertical-align: top;\n",
              "    }\n",
              "\n",
              "    .dataframe thead th {\n",
              "        text-align: right;\n",
              "    }\n",
              "</style>\n",
              "<table border=\"1\" class=\"dataframe\">\n",
              "  <thead>\n",
              "    <tr style=\"text-align: right;\">\n",
              "      <th></th>\n",
              "      <th>WhiteNonHispanicPct2020</th>\n",
              "    </tr>\n",
              "  </thead>\n",
              "  <tbody>\n",
              "    <tr>\n",
              "      <th>count</th>\n",
              "      <td>3142.000000</td>\n",
              "    </tr>\n",
              "    <tr>\n",
              "      <th>mean</th>\n",
              "      <td>74.162432</td>\n",
              "    </tr>\n",
              "    <tr>\n",
              "      <th>std</th>\n",
              "      <td>19.796706</td>\n",
              "    </tr>\n",
              "    <tr>\n",
              "      <th>min</th>\n",
              "      <td>1.776396</td>\n",
              "    </tr>\n",
              "    <tr>\n",
              "      <th>25%</th>\n",
              "      <td>62.589658</td>\n",
              "    </tr>\n",
              "    <tr>\n",
              "      <th>50%</th>\n",
              "      <td>80.728143</td>\n",
              "    </tr>\n",
              "    <tr>\n",
              "      <th>75%</th>\n",
              "      <td>90.343988</td>\n",
              "    </tr>\n",
              "    <tr>\n",
              "      <th>max</th>\n",
              "      <td>97.404829</td>\n",
              "    </tr>\n",
              "  </tbody>\n",
              "</table>\n",
              "</div><br><label><b>dtype:</b> float64</label>"
            ]
          },
          "metadata": {},
          "execution_count": 35
        }
      ]
    },
    {
      "cell_type": "markdown",
      "source": [
        "We have chosen to observe the bottom half of counties with the smallest white populations (<.80.7%, as per the median value) in our analysis to determine whether or not a small white population has an effect on poverty"
      ],
      "metadata": {
        "id": "kVxvWCIg_jUm"
      }
    },
    {
      "cell_type": "markdown",
      "source": [
        "### Percentage of Hispanic Population"
      ],
      "metadata": {
        "id": "wVHIXFm1ZRR_"
      }
    },
    {
      "cell_type": "code",
      "source": [
        "df_counties['HispanicPct2020'].describe()"
      ],
      "metadata": {
        "colab": {
          "base_uri": "https://localhost:8080/",
          "height": 335
        },
        "id": "Fxu0haqkZQc1",
        "outputId": "72e72b0e-bcd7-4ca5-d013-657c95d1146e"
      },
      "execution_count": 36,
      "outputs": [
        {
          "output_type": "execute_result",
          "data": {
            "text/plain": [
              "count    3142.000000\n",
              "mean        9.788272\n",
              "std        13.685627\n",
              "min         0.167304\n",
              "25%         2.371242\n",
              "50%         4.609790\n",
              "75%        10.443061\n",
              "max        97.683556\n",
              "Name: HispanicPct2020, dtype: float64"
            ],
            "text/html": [
              "<div>\n",
              "<style scoped>\n",
              "    .dataframe tbody tr th:only-of-type {\n",
              "        vertical-align: middle;\n",
              "    }\n",
              "\n",
              "    .dataframe tbody tr th {\n",
              "        vertical-align: top;\n",
              "    }\n",
              "\n",
              "    .dataframe thead th {\n",
              "        text-align: right;\n",
              "    }\n",
              "</style>\n",
              "<table border=\"1\" class=\"dataframe\">\n",
              "  <thead>\n",
              "    <tr style=\"text-align: right;\">\n",
              "      <th></th>\n",
              "      <th>HispanicPct2020</th>\n",
              "    </tr>\n",
              "  </thead>\n",
              "  <tbody>\n",
              "    <tr>\n",
              "      <th>count</th>\n",
              "      <td>3142.000000</td>\n",
              "    </tr>\n",
              "    <tr>\n",
              "      <th>mean</th>\n",
              "      <td>9.788272</td>\n",
              "    </tr>\n",
              "    <tr>\n",
              "      <th>std</th>\n",
              "      <td>13.685627</td>\n",
              "    </tr>\n",
              "    <tr>\n",
              "      <th>min</th>\n",
              "      <td>0.167304</td>\n",
              "    </tr>\n",
              "    <tr>\n",
              "      <th>25%</th>\n",
              "      <td>2.371242</td>\n",
              "    </tr>\n",
              "    <tr>\n",
              "      <th>50%</th>\n",
              "      <td>4.609790</td>\n",
              "    </tr>\n",
              "    <tr>\n",
              "      <th>75%</th>\n",
              "      <td>10.443061</td>\n",
              "    </tr>\n",
              "    <tr>\n",
              "      <th>max</th>\n",
              "      <td>97.683556</td>\n",
              "    </tr>\n",
              "  </tbody>\n",
              "</table>\n",
              "</div><br><label><b>dtype:</b> float64</label>"
            ]
          },
          "metadata": {},
          "execution_count": 36
        }
      ]
    },
    {
      "cell_type": "markdown",
      "source": [
        "Filter to show above the median (>4.6%)"
      ],
      "metadata": {
        "id": "k4rS009CcV40"
      }
    },
    {
      "cell_type": "code",
      "source": [
        "df_counties[df_counties['HispanicPct2020']>4.6].corr(numeric_only=True, method='pearson')['PCTPOVALL']['HispanicPct2020']"
      ],
      "metadata": {
        "colab": {
          "base_uri": "https://localhost:8080/"
        },
        "id": "q10gfy8vc7kd",
        "outputId": "24b90263-a109-4923-8acd-58067f864916"
      },
      "execution_count": 39,
      "outputs": [
        {
          "output_type": "execute_result",
          "data": {
            "text/plain": [
              "0.27620916960272934"
            ]
          },
          "metadata": {},
          "execution_count": 39
        }
      ]
    },
    {
      "cell_type": "markdown",
      "source": [
        "Weak correlation"
      ],
      "metadata": {
        "id": "m7kiyYrFmoAK"
      }
    },
    {
      "cell_type": "markdown",
      "source": [
        "### Low Education"
      ],
      "metadata": {
        "id": "AyM9spYG2V2G"
      }
    },
    {
      "cell_type": "code",
      "source": [
        "sns.boxplot(x='Low_Education_2015_update', y='PCTPOVALL', data=df_counties)"
      ],
      "metadata": {
        "colab": {
          "base_uri": "https://localhost:8080/",
          "height": 0
        },
        "id": "ogFjZAAgJaHs",
        "outputId": "fdb81920-cf06-4091-cfac-a84c1ce25d55"
      },
      "execution_count": 37,
      "outputs": [
        {
          "output_type": "execute_result",
          "data": {
            "text/plain": [
              "<Axes: xlabel='Low_Education_2015_update', ylabel='PCTPOVALL'>"
            ]
          },
          "metadata": {},
          "execution_count": 37
        },
        {
          "output_type": "display_data",
          "data": {
            "text/plain": [
              "<Figure size 640x480 with 1 Axes>"
            ],
            "image/png": "[encoded data removed]"
          },
          "metadata": {}
        }
      ]
    },
    {
      "cell_type": "markdown",
      "source": [
        "It appears that counties classified as being 'low education counties' (taking the value 1) suffer from poverty to a greater degree"
      ],
      "metadata": {
        "id": "Y29D022xAQDf"
      }
    }
  ]
}